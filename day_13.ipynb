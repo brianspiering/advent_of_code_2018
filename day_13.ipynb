{
 "cells": [
  {
   "cell_type": "markdown",
   "metadata": {},
   "source": [
    "Advent of Code - Day 13\n",
    "-----\n",
    "\n",
    "[Mine Cart Madness](https://adventofcode.com/2018/day/13)"
   ]
  },
  {
   "cell_type": "code",
   "execution_count": 74,
   "metadata": {},
   "outputs": [],
   "source": [
    "reset -fs"
   ]
  },
  {
   "cell_type": "code",
   "execution_count": 75,
   "metadata": {},
   "outputs": [],
   "source": [
    "from utilities import load_input\n",
    "    \n",
    "data = load_input(day=13)"
   ]
  },
  {
   "cell_type": "markdown",
   "metadata": {},
   "source": [
    "Part I\n",
    "-----"
   ]
  },
  {
   "cell_type": "code",
   "execution_count": 76,
   "metadata": {},
   "outputs": [],
   "source": [
    "# data_test = \"\"\"\n",
    "# /----\\\n",
    "# |    |\n",
    "# |    |\n",
    "# \\----/\n",
    "# \"\"\"\n",
    "\n",
    "data_test = \"\"\"\n",
    "|  \n",
    "v  \n",
    "|  \n",
    "|  \n",
    "^  \n",
    "|\n",
    "\"\"\""
   ]
  },
  {
   "cell_type": "code",
   "execution_count": 77,
   "metadata": {},
   "outputs": [],
   "source": [
    "from dataclasses import dataclass\n",
    "from typing import List"
   ]
  },
  {
   "cell_type": "code",
   "execution_count": 78,
   "metadata": {},
   "outputs": [],
   "source": [
    "@dataclass\n",
    "class Cart:\n",
    "    cart_id: int\n",
    "    location: List[int]\n",
    "    direction: str\n",
    "    next_turn: str"
   ]
  },
  {
   "cell_type": "code",
   "execution_count": 79,
   "metadata": {},
   "outputs": [],
   "source": [
    "# TODO: Change from hardcoded to reading in from ASCII art\n",
    "def setup_carts():\n",
    "    carts = []\n",
    "\n",
    "    cart = Cart(cart_id=0,\n",
    "                location=[1, 0],\n",
    "                direction='down',\n",
    "                next_turn='left')\n",
    "    carts.append(cart)\n",
    "\n",
    "    cart = Cart(cart_id=1,\n",
    "                location=[5, 0],\n",
    "                direction='up',\n",
    "                next_turn='left')\n",
    "    carts.append(cart)\n",
    "\n",
    "    return carts"
   ]
  },
  {
   "cell_type": "code",
   "execution_count": 80,
   "metadata": {},
   "outputs": [
    {
     "name": "stdout",
     "output_type": "stream",
     "text": [
      "Cart(cart_id=0, location=[2, 0], direction='down', next_turn='left')\n",
      "Cart(cart_id=1, location=[4, 0], direction='up', next_turn='left')\n",
      "\n",
      "crash!  💥\n"
     ]
    }
   ],
   "source": [
    "carts = setup_carts()\n",
    "\n",
    "while True:\n",
    "\n",
    "    # Sort carts by location \n",
    "    carts = sorted(carts, key=lambda c: (c.location[0], c.location[1]))\n",
    "\n",
    "    # Update cart location\n",
    "    for cart in carts:\n",
    "        if cart.direction == 'down':\n",
    "            cart.location[0] += 1\n",
    "        elif cart.direction == 'up':\n",
    "            cart.location[0] -= 1\n",
    "\n",
    "    # Check for crashes\n",
    "    if len(carts) != len(set(tuple(cart.location) for cart in carts)):\n",
    "        print('crash!  💥')\n",
    "        break\n",
    "\n",
    "    print(*carts, sep=\"\\n\")\n",
    "    print()"
   ]
  },
  {
   "cell_type": "markdown",
   "metadata": {},
   "source": [
    "TODOS:\n",
    "\n",
    "1. Read in track and stay on track\n",
    "1. Add 2d track\n",
    "1. Add intersections\n",
    "1. generalize to input data"
   ]
  },
  {
   "cell_type": "code",
   "execution_count": 81,
   "metadata": {},
   "outputs": [],
   "source": [
    "def solve_day_13_part_1(data: str) -> int:\n",
    "    pass\n",
    "\n"
   ]
  },
  {
   "cell_type": "code",
   "execution_count": 82,
   "metadata": {},
   "outputs": [
    {
     "name": "stdout",
     "output_type": "stream",
     "text": [
      "Solution Part One: None\n"
     ]
    }
   ],
   "source": [
    "solution = solve_day_13_part_1(data)\n",
    "# assert solution == 10584\n",
    "print(f\"Solution Part One: {solution}\")"
   ]
  },
  {
   "cell_type": "markdown",
   "metadata": {},
   "source": [
    "Part II\n",
    "-----"
   ]
  },
  {
   "cell_type": "code",
   "execution_count": null,
   "metadata": {},
   "outputs": [],
   "source": []
  },
  {
   "cell_type": "code",
   "execution_count": null,
   "metadata": {},
   "outputs": [],
   "source": []
  },
  {
   "cell_type": "code",
   "execution_count": null,
   "metadata": {},
   "outputs": [],
   "source": []
  },
  {
   "cell_type": "code",
   "execution_count": null,
   "metadata": {},
   "outputs": [],
   "source": []
  },
  {
   "cell_type": "code",
   "execution_count": null,
   "metadata": {},
   "outputs": [],
   "source": []
  },
  {
   "cell_type": "markdown",
   "metadata": {},
   "source": [
    " "
   ]
  }
 ],
 "metadata": {
  "kernelspec": {
   "display_name": "Python 3",
   "language": "python",
   "name": "python3"
  },
  "language_info": {
   "codemirror_mode": {
    "name": "ipython",
    "version": 3
   },
   "file_extension": ".py",
   "mimetype": "text/x-python",
   "name": "python",
   "nbconvert_exporter": "python",
   "pygments_lexer": "ipython3",
   "version": "3.6.7"
  }
 },
 "nbformat": 4,
 "nbformat_minor": 2
}
