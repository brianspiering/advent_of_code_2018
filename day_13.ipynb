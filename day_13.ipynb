{
 "cells": [
  {
   "cell_type": "markdown",
   "metadata": {},
   "source": [
    "Advent of Code - Day 13\n",
    "-----\n",
    "\n",
    "[Mine Cart Madness](https://adventofcode.com/2018/day/13)"
   ]
  },
  {
   "cell_type": "code",
   "execution_count": 107,
   "metadata": {},
   "outputs": [],
   "source": [
    "reset -fs"
   ]
  },
  {
   "cell_type": "code",
   "execution_count": 108,
   "metadata": {},
   "outputs": [
    {
     "data": {
      "text/plain": [
       "['                                                /-----------------------------------------------------------------\\\\                                   ',\n",
       " '                                                |    /------------------------------\\\\                              |                                   ']"
      ]
     },
     "execution_count": 108,
     "metadata": {},
     "output_type": "execute_result"
    }
   ],
   "source": [
    "from utilities import load_input\n",
    "    \n",
    "data = load_input(day=13)\n",
    "data[:2]"
   ]
  },
  {
   "cell_type": "markdown",
   "metadata": {},
   "source": [
    "Part I\n",
    "-----"
   ]
  },
  {
   "cell_type": "code",
   "execution_count": 109,
   "metadata": {},
   "outputs": [],
   "source": [
    "from collections import Counter\n",
    "from dataclasses import dataclass\n",
    "from typing import List"
   ]
  },
  {
   "cell_type": "code",
   "execution_count": 110,
   "metadata": {},
   "outputs": [],
   "source": [
    "# data_test = \"\"\"\n",
    "# /----\\\n",
    "# |    |\n",
    "# |    |\n",
    "# \\----/\n",
    "# \"\"\"\n",
    "\n",
    "data_test = [\n",
    "'|',  \n",
    "'v',  \n",
    "'|', \n",
    "'|',  \n",
    "'|',  \n",
    "'^',  \n",
    "'|',\n",
    "]"
   ]
  },
  {
   "cell_type": "code",
   "execution_count": 111,
   "metadata": {},
   "outputs": [],
   "source": [
    "@dataclass\n",
    "class Location:\n",
    "    x: int\n",
    "    y: int\n",
    "\n",
    "@dataclass\n",
    "class Cart:\n",
    "    location: Location\n",
    "    direction: str\n",
    "    next_turn: str"
   ]
  },
  {
   "cell_type": "code",
   "execution_count": 113,
   "metadata": {},
   "outputs": [],
   "source": [
    "def add_new_cart(carts, i, direction):\n",
    "    cart = Cart(location = Location(x=0, y=i),\n",
    "                direction=direction,\n",
    "                next_turn='left')\n",
    "    carts.append(cart)\n",
    "    return carts\n",
    "\n",
    "def setup_carts(data: str) -> List:\n",
    "    carts = []\n",
    "    for i, row in enumerate(data_test):\n",
    "        if row.find('v') != -1:\n",
    "            carts = add_new_cart(carts, i, direction='down')\n",
    "        elif row.find('^') != -1:\n",
    "            carts = add_new_cart(carts, i, direction='up') \n",
    "            \n",
    "    return carts\n",
    "\n",
    "\n",
    "assert setup_carts(data_test) == [Cart(location=Location(x=0, y=1), direction='down', next_turn='left'),\n",
    "                                  Cart(location=Location(x=0, y=5), direction='up', next_turn='left')]"
   ]
  },
  {
   "cell_type": "code",
   "execution_count": 93,
   "metadata": {},
   "outputs": [
    {
     "name": "stdout",
     "output_type": "stream",
     "text": [
      "Cart(cart_id=0, location=Location(x=0, y=2), direction='down', next_turn='left')\n",
      "Cart(cart_id=1, location=Location(x=0, y=4), direction='up', next_turn='left')\n",
      "\n",
      "Cart(cart_id=0, location=Location(x=0, y=3), direction='down', next_turn='left')\n",
      "Cart(cart_id=1, location=Location(x=0, y=3), direction='up', next_turn='left')\n",
      "\n",
      "crash💥 @: 0,3\n"
     ]
    }
   ],
   "source": [
    "carts = setup_carts(data_test)\n",
    "\n",
    "while True:\n",
    "\n",
    "    # Sort carts by location \n",
    "    carts = sorted(carts, key=lambda c: (c.location.x, c.location.y))\n",
    "\n",
    "    # Update cart location\n",
    "    for cart in carts:\n",
    "        if cart.direction == 'down':\n",
    "            cart.location.y += 1\n",
    "        elif cart.direction == 'up':\n",
    "            cart.location.y -= 1\n",
    "\n",
    "    print(*carts, sep=\"\\n\")\n",
    "    print()\n",
    "    \n",
    "    # Check for crashes\n",
    "    location, count = Counter(((c.location.x, c.location.y) for c in carts)).most_common(n=1)[0]\n",
    "    if count == 2:\n",
    "        print(\"crash💥 @: {},{}\".format(*location))\n",
    "        break"
   ]
  },
  {
   "cell_type": "markdown",
   "metadata": {},
   "source": [
    "TODOS:\n",
    "\n",
    "1. Read in track and stay on track\n",
    "1. Add 2d track\n",
    "1. Add intersections\n",
    "1. generalize to input data"
   ]
  },
  {
   "cell_type": "code",
   "execution_count": null,
   "metadata": {},
   "outputs": [],
   "source": [
    "def solve_day_13_part_1(data: str) -> int:\n",
    "    pass\n",
    "\n"
   ]
  },
  {
   "cell_type": "code",
   "execution_count": null,
   "metadata": {},
   "outputs": [],
   "source": [
    "solution = solve_day_13_part_1(data)\n",
    "# assert solution == 10584\n",
    "print(f\"Solution Part One: {solution}\")"
   ]
  },
  {
   "cell_type": "markdown",
   "metadata": {},
   "source": [
    "Part II\n",
    "-----"
   ]
  },
  {
   "cell_type": "code",
   "execution_count": null,
   "metadata": {},
   "outputs": [],
   "source": []
  },
  {
   "cell_type": "code",
   "execution_count": null,
   "metadata": {},
   "outputs": [],
   "source": []
  },
  {
   "cell_type": "code",
   "execution_count": null,
   "metadata": {},
   "outputs": [],
   "source": []
  },
  {
   "cell_type": "code",
   "execution_count": null,
   "metadata": {},
   "outputs": [],
   "source": []
  },
  {
   "cell_type": "code",
   "execution_count": null,
   "metadata": {},
   "outputs": [],
   "source": []
  },
  {
   "cell_type": "markdown",
   "metadata": {},
   "source": [
    " "
   ]
  }
 ],
 "metadata": {
  "kernelspec": {
   "display_name": "Python 3",
   "language": "python",
   "name": "python3"
  },
  "language_info": {
   "codemirror_mode": {
    "name": "ipython",
    "version": 3
   },
   "file_extension": ".py",
   "mimetype": "text/x-python",
   "name": "python",
   "nbconvert_exporter": "python",
   "pygments_lexer": "ipython3",
   "version": "3.6.7"
  }
 },
 "nbformat": 4,
 "nbformat_minor": 2
}
