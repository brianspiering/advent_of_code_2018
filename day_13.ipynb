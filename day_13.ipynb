{
 "cells": [
  {
   "cell_type": "markdown",
   "metadata": {},
   "source": [
    "Advent of Code - Day 13\n",
    "-----\n",
    "\n",
    "[Mine Cart Madness](https://adventofcode.com/2018/day/13)"
   ]
  },
  {
   "cell_type": "code",
   "execution_count": 2,
   "metadata": {},
   "outputs": [],
   "source": [
    "reset -fs"
   ]
  },
  {
   "cell_type": "code",
   "execution_count": 3,
   "metadata": {},
   "outputs": [],
   "source": [
    "from utilities import load_input\n",
    "    \n",
    "data = load_input(day=13)"
   ]
  },
  {
   "cell_type": "markdown",
   "metadata": {},
   "source": [
    "Part I\n",
    "-----"
   ]
  },
  {
   "cell_type": "code",
   "execution_count": 4,
   "metadata": {},
   "outputs": [],
   "source": [
    "# data_test = \"\"\"\n",
    "# /----\\\n",
    "# |    |\n",
    "# |    |\n",
    "# \\----/\n",
    "# \"\"\"\n",
    "\n",
    "data_test = \"\"\"\n",
    "|  \n",
    "v  \n",
    "|  \n",
    "|  \n",
    "^  \n",
    "|\n",
    "\"\"\""
   ]
  },
  {
   "cell_type": "code",
   "execution_count": 5,
   "metadata": {},
   "outputs": [],
   "source": [
    "from dataclasses import dataclass\n",
    "from typing import List"
   ]
  },
  {
   "cell_type": "code",
   "execution_count": 10,
   "metadata": {},
   "outputs": [],
   "source": [
    "@dataclass\n",
    "class Location:\n",
    "    x: int\n",
    "    y: int\n",
    "\n",
    "@dataclass\n",
    "class Cart:\n",
    "    cart_id: int\n",
    "    location: Location\n",
    "    direction: str\n",
    "    next_turn: str"
   ]
  },
  {
   "cell_type": "code",
   "execution_count": 13,
   "metadata": {},
   "outputs": [],
   "source": [
    "# TODO: Change from hardcoded to reading in from ASCII art\n",
    "def setup_carts():\n",
    "    carts = []\n",
    "\n",
    "    cart = Cart(cart_id=0,\n",
    "                location = Location(x=1, y=0),\n",
    "                direction='down',\n",
    "                next_turn='left')\n",
    "    carts.append(cart)\n",
    "\n",
    "    cart = Cart(cart_id=1,\n",
    "                location = Location(x=5, y=0),\n",
    "                direction='up',\n",
    "                next_turn='left')\n",
    "    carts.append(cart)\n",
    "\n",
    "    return carts"
   ]
  },
  {
   "cell_type": "code",
   "execution_count": 36,
   "metadata": {},
   "outputs": [
    {
     "name": "stdout",
     "output_type": "stream",
     "text": [
      "Cart(cart_id=0, location=Location(x=2, y=0), direction='down', next_turn='left')\n",
      "Cart(cart_id=1, location=Location(x=4, y=0), direction='up', next_turn='left')\n",
      "\n",
      "Cart(cart_id=0, location=Location(x=3, y=0), direction='down', next_turn='left')\n",
      "Cart(cart_id=1, location=Location(x=3, y=0), direction='up', next_turn='left')\n",
      "\n",
      "crash💥 @: 3,0\n"
     ]
    }
   ],
   "source": [
    "carts = setup_carts()\n",
    "\n",
    "while True:\n",
    "\n",
    "    # Sort carts by location \n",
    "    carts = sorted(carts, key=lambda c: (c.location.x, c.location.y))\n",
    "\n",
    "    # Update cart location\n",
    "    for cart in carts:\n",
    "        if cart.direction == 'down':\n",
    "            cart.location.x += 1\n",
    "        elif cart.direction == 'up':\n",
    "            cart.location.x -= 1\n",
    "\n",
    "    print(*carts, sep=\"\\n\")\n",
    "    print()\n",
    "    \n",
    "    # Check for crashes\n",
    "    location, count = Counter(((c.location.x, c.location.y) for c in carts)).most_common(n=1)[0]\n",
    "    if count == 2:\n",
    "        print(\"crash💥 @: {},{}\".format(*location))\n",
    "        break"
   ]
  },
  {
   "cell_type": "markdown",
   "metadata": {},
   "source": [
    "TODOS:\n",
    "\n",
    "1. Read in track and stay on track\n",
    "1. Add 2d track\n",
    "1. Add intersections\n",
    "1. generalize to input data"
   ]
  },
  {
   "cell_type": "code",
   "execution_count": null,
   "metadata": {},
   "outputs": [],
   "source": [
    "def solve_day_13_part_1(data: str) -> int:\n",
    "    pass\n",
    "\n"
   ]
  },
  {
   "cell_type": "code",
   "execution_count": null,
   "metadata": {},
   "outputs": [],
   "source": [
    "solution = solve_day_13_part_1(data)\n",
    "# assert solution == 10584\n",
    "print(f\"Solution Part One: {solution}\")"
   ]
  },
  {
   "cell_type": "markdown",
   "metadata": {},
   "source": [
    "Part II\n",
    "-----"
   ]
  },
  {
   "cell_type": "code",
   "execution_count": null,
   "metadata": {},
   "outputs": [],
   "source": []
  },
  {
   "cell_type": "code",
   "execution_count": null,
   "metadata": {},
   "outputs": [],
   "source": []
  },
  {
   "cell_type": "code",
   "execution_count": null,
   "metadata": {},
   "outputs": [],
   "source": []
  },
  {
   "cell_type": "code",
   "execution_count": null,
   "metadata": {},
   "outputs": [],
   "source": []
  },
  {
   "cell_type": "code",
   "execution_count": null,
   "metadata": {},
   "outputs": [],
   "source": []
  },
  {
   "cell_type": "markdown",
   "metadata": {},
   "source": [
    " "
   ]
  }
 ],
 "metadata": {
  "kernelspec": {
   "display_name": "Python 3",
   "language": "python",
   "name": "python3"
  },
  "language_info": {
   "codemirror_mode": {
    "name": "ipython",
    "version": 3
   },
   "file_extension": ".py",
   "mimetype": "text/x-python",
   "name": "python",
   "nbconvert_exporter": "python",
   "pygments_lexer": "ipython3",
   "version": "3.6.7"
  }
 },
 "nbformat": 4,
 "nbformat_minor": 2
}
