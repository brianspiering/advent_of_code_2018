{
 "cells": [
  {
   "cell_type": "markdown",
   "metadata": {},
   "source": [
    "Advent of Code - Day 9\n",
    "-----\n",
    "\n",
    "[Marble Mania](https://adventofcode.com/2018/day/9)"
   ]
  },
  {
   "cell_type": "code",
   "execution_count": 45,
   "metadata": {},
   "outputs": [],
   "source": [
    "reset -fs"
   ]
  },
  {
   "cell_type": "code",
   "execution_count": 46,
   "metadata": {},
   "outputs": [],
   "source": [
    "data = \"486 players; last marble is worth 70833 points\""
   ]
  },
  {
   "cell_type": "markdown",
   "metadata": {},
   "source": [
    "Part I\n",
    "-----"
   ]
  },
  {
   "cell_type": "code",
   "execution_count": 65,
   "metadata": {},
   "outputs": [],
   "source": [
    "from collections import defaultdict\n",
    "\n",
    "def solve_day_5_part_1(data: str) -> int:\n",
    "    letter_counts = defaultdict(int)\n",
    "    data_next_round = data \n",
    "    while True:\n",
    "        data = data_next_round\n",
    "        for i, _ in enumerate(data[:-1]):\n",
    "            if abs(ord(data[i]) - ord(data[i+1])) == 32: # Difference in ASCII encoding\n",
    "                data_next_round = data[:i]+data[i+2:]\n",
    "                letter_counts[data[i]+data[i+1]] += 1\n",
    "                break\n",
    "        else:\n",
    "            return len(data_next_round), max(letter_counts.items(), key=lambda x: x[1])[0]\n",
    "\n",
    "assert solve_day_5_part_1(\"dabAcCaCBAcCcaDA\")[0] == 10"
   ]
  },
  {
   "cell_type": "code",
   "execution_count": 67,
   "metadata": {},
   "outputs": [
    {
     "name": "stdout",
     "output_type": "stream",
     "text": [
      "Solution Part One: 10584\n"
     ]
    }
   ],
   "source": [
    "solution, letters_to_remove = solve_day_5_part_1(data)\n",
    "assert solution == 10584\n",
    "print(f\"Solution Part One: {solution}\")"
   ]
  },
  {
   "cell_type": "markdown",
   "metadata": {},
   "source": [
    "Part II\n",
    "-----"
   ]
  },
  {
   "cell_type": "code",
   "execution_count": 68,
   "metadata": {},
   "outputs": [
    {
     "data": {
      "text/plain": [
       "'xX'"
      ]
     },
     "execution_count": 68,
     "metadata": {},
     "output_type": "execute_result"
    }
   ],
   "source": [
    "# letters_to_remove\n",
    "'xX'"
   ]
  },
  {
   "cell_type": "code",
   "execution_count": 70,
   "metadata": {},
   "outputs": [],
   "source": [
    "def solve_day_5_part_2(data: str, letters_to_remove: str) -> int:\n",
    "    data = data.replace(letters_to_remove[0], \"\").replace(letters_to_remove[1], \"\")\n",
    "    return solve_day_5_part_1(data)[0]\n",
    "\n",
    "assert solve_day_5_part_2(\"dabAcCaCBAcCcaDA\", 'Cc') == 4"
   ]
  },
  {
   "cell_type": "code",
   "execution_count": null,
   "metadata": {},
   "outputs": [],
   "source": [
    "10140 # incorrect: too high"
   ]
  },
  {
   "cell_type": "code",
   "execution_count": 71,
   "metadata": {},
   "outputs": [
    {
     "name": "stdout",
     "output_type": "stream",
     "text": [
      "Solution Part One: 10140\n"
     ]
    }
   ],
   "source": [
    "solution = solve_day_5_part_2(data, letters_to_remove)\n",
    "# assert solution == 10584\n",
    "print(f\"Solution Part One: {solution}\")"
   ]
  },
  {
   "cell_type": "markdown",
   "metadata": {},
   "source": [
    " "
   ]
  }
 ],
 "metadata": {
  "kernelspec": {
   "display_name": "Python 3",
   "language": "python",
   "name": "python3"
  },
  "language_info": {
   "codemirror_mode": {
    "name": "ipython",
    "version": 3
   },
   "file_extension": ".py",
   "mimetype": "text/x-python",
   "name": "python",
   "nbconvert_exporter": "python",
   "pygments_lexer": "ipython3",
   "version": "3.6.7"
  }
 },
 "nbformat": 4,
 "nbformat_minor": 2
}
