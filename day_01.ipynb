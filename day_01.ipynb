{
 "cells": [
  {
   "cell_type": "markdown",
   "metadata": {},
   "source": [
    "Advent of Code - Day 1\n",
    "-----\n",
    "\n",
    "[Chronal Calibration](https://adventofcode.com/2018/day/1)"
   ]
  },
  {
   "cell_type": "code",
   "execution_count": 2,
   "metadata": {},
   "outputs": [],
   "source": [
    "from utilities import load_input\n",
    "    \n",
    "data = load_input(day=1)"
   ]
  },
  {
   "cell_type": "code",
   "execution_count": 4,
   "metadata": {},
   "outputs": [],
   "source": [
    "from typing import List\n",
    "\n",
    "def solve_day_1(data:List[str] , part:int) -> int:\n",
    "    \n",
    "    total = 0\n",
    "    unique = set([total])\n",
    "    \n",
    "    while True:\n",
    "        for item in data:\n",
    "            if item[0] == '-':\n",
    "                total -= int(item[1:])\n",
    "            elif item[0] == '+':\n",
    "                total += int(item[1:])\n",
    "        \n",
    "            # For Part 2 - keep looping through the data until a total is repeated\n",
    "            if (part == 2) and (total in unique):\n",
    "                return total\n",
    "            else:\n",
    "                unique.add(total)    \n",
    "        \n",
    "        # For Part 1 - find running total after 1 pass through data\n",
    "        if part == 1:\n",
    "            return total"
   ]
  },
  {
   "cell_type": "code",
   "execution_count": 5,
   "metadata": {},
   "outputs": [
    {
     "name": "stdout",
     "output_type": "stream",
     "text": [
      "Solution Part One: 533\n",
      "Solution Part Two: 73272\n"
     ]
    }
   ],
   "source": [
    "print(f\"Solution Part One: {solve_day_1(data, part=1)}\")\n",
    "print(f\"Solution Part Two: {solve_day_1(data, part=2)}\")"
   ]
  },
  {
   "cell_type": "code",
   "execution_count": null,
   "metadata": {},
   "outputs": [],
   "source": []
  }
 ],
 "metadata": {
  "kernelspec": {
   "display_name": "Python 3",
   "language": "python",
   "name": "python3"
  },
  "language_info": {
   "codemirror_mode": {
    "name": "ipython",
    "version": 3
   },
   "file_extension": ".py",
   "mimetype": "text/x-python",
   "name": "python",
   "nbconvert_exporter": "python",
   "pygments_lexer": "ipython3",
   "version": "3.6.7"
  }
 },
 "nbformat": 4,
 "nbformat_minor": 2
}
