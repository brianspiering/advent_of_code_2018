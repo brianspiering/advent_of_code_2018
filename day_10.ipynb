{
 "cells": [
  {
   "cell_type": "markdown",
   "metadata": {},
   "source": [
    "Advent of Code - Day 10\n",
    "-----\n",
    "\n",
    "[The Stars Align](https://adventofcode.com/2018/day/10)"
   ]
  },
  {
   "cell_type": "code",
   "execution_count": 45,
   "metadata": {},
   "outputs": [],
   "source": [
    "reset -fs"
   ]
  },
  {
   "cell_type": "code",
   "execution_count": 1,
   "metadata": {},
   "outputs": [],
   "source": [
    "from utilities import load_input\n",
    "    \n",
    "data = load_input(day=10)"
   ]
  },
  {
   "cell_type": "markdown",
   "metadata": {},
   "source": [
    "Part I\n",
    "-----"
   ]
  },
  {
   "cell_type": "code",
   "execution_count": 5,
   "metadata": {},
   "outputs": [],
   "source": [
    "data_test = \"\"\"position=< 9,  1> velocity=< 0,  2>\n",
    "position=< 7,  0> velocity=<-1,  0>\n",
    "position=< 3, -2> velocity=<-1,  1>\n",
    "position=< 6, 10> velocity=<-2, -1>\n",
    "position=< 2, -4> velocity=< 2,  2>\n",
    "position=<-6, 10> velocity=< 2, -2>\n",
    "position=< 1,  8> velocity=< 1, -1>\n",
    "position=< 1,  7> velocity=< 1,  0>\n",
    "position=<-3, 11> velocity=< 1, -2>\n",
    "position=< 7,  6> velocity=<-1, -1>\n",
    "position=<-2,  3> velocity=< 1,  0>\n",
    "position=<-4,  3> velocity=< 2,  0>\n",
    "position=<10, -3> velocity=<-1,  1>\n",
    "position=< 5, 11> velocity=< 1, -2>\n",
    "position=< 4,  7> velocity=< 0, -1>\n",
    "position=< 8, -2> velocity=< 0,  1>\n",
    "position=<15,  0> velocity=<-2,  0>\n",
    "position=< 1,  6> velocity=< 1,  0>\n",
    "position=< 8,  9> velocity=< 0, -1>\n",
    "position=< 3,  3> velocity=<-1,  1>\n",
    "position=< 0,  5> velocity=< 0, -1>\n",
    "position=<-2,  2> velocity=< 2,  0>\n",
    "position=< 5, -2> velocity=< 1,  2>\n",
    "position=< 1,  4> velocity=< 2,  1>\n",
    "position=<-2,  7> velocity=< 2, -2>\n",
    "position=< 3,  6> velocity=<-1, -1>\n",
    "position=< 5,  0> velocity=< 1,  0>\n",
    "position=<-6,  0> velocity=< 2,  0>\n",
    "position=< 5,  9> velocity=< 1, -2>\n",
    "position=<14,  7> velocity=<-2,  0>\n",
    "position=<-3,  6> velocity=< 2, -1>\"\"\".split(\"\\n\")"
   ]
  },
  {
   "cell_type": "code",
   "execution_count": 44,
   "metadata": {},
   "outputs": [],
   "source": [
    "# Convert raw data into integers\n",
    "x_points, y_points = [], []\n",
    "\n",
    "for row in data_test:\n",
    "    _, x_y, h_v = row.split('<')\n",
    "    x, y = x_y.split(',')\n",
    "    y, _ = y.split('>')\n",
    "    x = int(x)\n",
    "    y = int(y)\n",
    "#     h = int(h[:-1])\n",
    "#     v = int(v[:-1])\n",
    "    x_points.append(x)\n",
    "    y_points.append(y)\n"
   ]
  },
  {
   "cell_type": "code",
   "execution_count": 45,
   "metadata": {},
   "outputs": [
    {
     "data": {
      "text/plain": [
       "[1,\n",
       " 0,\n",
       " -2,\n",
       " 10,\n",
       " -4,\n",
       " 10,\n",
       " 8,\n",
       " 7,\n",
       " 11,\n",
       " 6,\n",
       " 3,\n",
       " 3,\n",
       " -3,\n",
       " 11,\n",
       " 7,\n",
       " -2,\n",
       " 0,\n",
       " 6,\n",
       " 9,\n",
       " 3,\n",
       " 5,\n",
       " 2,\n",
       " -2,\n",
       " 4,\n",
       " 7,\n",
       " 6,\n",
       " 0,\n",
       " 0,\n",
       " 9,\n",
       " 7,\n",
       " 6]"
      ]
     },
     "execution_count": 45,
     "metadata": {},
     "output_type": "execute_result"
    }
   ],
   "source": [
    "y_points"
   ]
  },
  {
   "cell_type": "code",
   "execution_count": 41,
   "metadata": {},
   "outputs": [
    {
     "data": {
      "text/plain": [
       "'  1> velocity='"
      ]
     },
     "execution_count": 41,
     "metadata": {},
     "output_type": "execute_result"
    }
   ],
   "source": [
    "y"
   ]
  },
  {
   "cell_type": "code",
   "execution_count": 32,
   "metadata": {},
   "outputs": [],
   "source": []
  },
  {
   "cell_type": "code",
   "execution_count": 37,
   "metadata": {},
   "outputs": [],
   "source": [
    "\n",
    "y = int(y)"
   ]
  },
  {
   "cell_type": "code",
   "execution_count": 65,
   "metadata": {},
   "outputs": [],
   "source": [
    "from collections import defaultdict\n",
    "\n",
    "def solve_day_5_part_1(data: str) -> int:\n",
    "    letter_counts = defaultdict(int)\n",
    "    data_next_round = data \n",
    "    while True:\n",
    "        data = data_next_round\n",
    "        for i, _ in enumerate(data[:-1]):\n",
    "            if abs(ord(data[i]) - ord(data[i+1])) == 32: # Difference in ASCII encoding\n",
    "                data_next_round = data[:i]+data[i+2:]\n",
    "                letter_counts[data[i]+data[i+1]] += 1\n",
    "                break\n",
    "        else:\n",
    "            return len(data_next_round), max(letter_counts.items(), key=lambda x: x[1])[0]\n",
    "\n",
    "assert solve_day_5_part_1(\"dabAcCaCBAcCcaDA\")[0] == 10"
   ]
  },
  {
   "cell_type": "code",
   "execution_count": 67,
   "metadata": {},
   "outputs": [
    {
     "name": "stdout",
     "output_type": "stream",
     "text": [
      "Solution Part One: 10584\n"
     ]
    }
   ],
   "source": [
    "solution, letters_to_remove = solve_day_5_part_1(data)\n",
    "assert solution == 10584\n",
    "print(f\"Solution Part One: {solution}\")"
   ]
  },
  {
   "cell_type": "markdown",
   "metadata": {},
   "source": [
    "Part II\n",
    "-----"
   ]
  },
  {
   "cell_type": "code",
   "execution_count": 68,
   "metadata": {},
   "outputs": [
    {
     "data": {
      "text/plain": [
       "'xX'"
      ]
     },
     "execution_count": 68,
     "metadata": {},
     "output_type": "execute_result"
    }
   ],
   "source": [
    "# letters_to_remove\n",
    "'xX'"
   ]
  },
  {
   "cell_type": "code",
   "execution_count": 70,
   "metadata": {},
   "outputs": [],
   "source": [
    "def solve_day_5_part_2(data: str, letters_to_remove: str) -> int:\n",
    "    data = data.replace(letters_to_remove[0], \"\").replace(letters_to_remove[1], \"\")\n",
    "    return solve_day_5_part_1(data)[0]\n",
    "\n",
    "assert solve_day_5_part_2(\"dabAcCaCBAcCcaDA\", 'Cc') == 4"
   ]
  },
  {
   "cell_type": "code",
   "execution_count": null,
   "metadata": {},
   "outputs": [],
   "source": [
    "10140 # incorrect: too high"
   ]
  },
  {
   "cell_type": "code",
   "execution_count": 71,
   "metadata": {},
   "outputs": [
    {
     "name": "stdout",
     "output_type": "stream",
     "text": [
      "Solution Part One: 10140\n"
     ]
    }
   ],
   "source": [
    "solution = solve_day_5_part_2(data, letters_to_remove)\n",
    "# assert solution == 10584\n",
    "print(f\"Solution Part One: {solution}\")"
   ]
  },
  {
   "cell_type": "markdown",
   "metadata": {},
   "source": [
    " "
   ]
  }
 ],
 "metadata": {
  "kernelspec": {
   "display_name": "Python 3",
   "language": "python",
   "name": "python3"
  },
  "language_info": {
   "codemirror_mode": {
    "name": "ipython",
    "version": 3
   },
   "file_extension": ".py",
   "mimetype": "text/x-python",
   "name": "python",
   "nbconvert_exporter": "python",
   "pygments_lexer": "ipython3",
   "version": "3.6.7"
  }
 },
 "nbformat": 4,
 "nbformat_minor": 2
}
