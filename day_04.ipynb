{
 "cells": [
  {
   "cell_type": "markdown",
   "metadata": {},
   "source": [
    "Advent of Code - Day 4\n",
    "-----\n",
    "\n",
    "[Repose Record](https://adventofcode.com/2018/day/4)"
   ]
  },
  {
   "cell_type": "code",
   "execution_count": 1,
   "metadata": {},
   "outputs": [],
   "source": [
    "reset -fs"
   ]
  },
  {
   "cell_type": "code",
   "execution_count": 18,
   "metadata": {},
   "outputs": [],
   "source": [
    "from utilities import load_input\n",
    "    \n",
    "data = load_input(day=4)\n",
    "# Sort dates by timestamp\n",
    "data.sort(key=lambda row: row[1:17])"
   ]
  },
  {
   "cell_type": "markdown",
   "metadata": {},
   "source": [
    "Part I\n",
    "-----"
   ]
  },
  {
   "cell_type": "code",
   "execution_count": 5,
   "metadata": {},
   "outputs": [],
   "source": [
    "data_test = \"\"\"[1518-11-01 00:00] Guard #10 begins shift\n",
    "[1518-11-01 00:05] falls asleep\n",
    "[1518-11-01 00:25] wakes up\n",
    "[1518-11-01 00:30] falls asleep\n",
    "[1518-11-01 00:55] wakes up\n",
    "[1518-11-01 23:58] Guard #99 begins shift\n",
    "[1518-11-02 00:40] falls asleep\n",
    "[1518-11-02 00:50] wakes up\n",
    "[1518-11-03 00:05] Guard #10 begins shift\n",
    "[1518-11-03 00:24] falls asleep\n",
    "[1518-11-03 00:29] wakes up\n",
    "[1518-11-04 00:02] Guard #99 begins shift\n",
    "[1518-11-04 00:36] falls asleep\n",
    "[1518-11-04 00:46] wakes up\n",
    "[1518-11-05 00:03] Guard #99 begins shift\n",
    "[1518-11-05 00:45] falls asleep\n",
    "[1518-11-05 00:55] wakes up\"\"\".split(\"\\n\")"
   ]
  },
  {
   "cell_type": "code",
   "execution_count": 126,
   "metadata": {},
   "outputs": [
    {
     "name": "stdout",
     "output_type": "stream",
     "text": [
      "10 [[5, 25], [30, 55], [24, 29]]\n"
     ]
    }
   ],
   "source": [
    "from collections import defaultdict, Counter\n",
    "from typing import List\n",
    "from operator import itemgetter\n",
    "\n",
    "def solve_day_4_part_1(data:List[str]) -> int:\n",
    "\n",
    "    guard_total_sleep_time = defaultdict(int)\n",
    "    guard_sleep_periods = defaultdict(list)\n",
    "\n",
    "    for row in data:\n",
    "        start_time, stop_time = 0, 0\n",
    "\n",
    "        if row.split()[2] == 'Guard':\n",
    "            guard_num = int(row.split()[3][1:])\n",
    "        elif row.split()[2] == 'falls':\n",
    "            start_time = int(row.split()[1].split(':')[1][:-1])\n",
    "        elif row.split()[2] == 'wakes':\n",
    "            stop_time = int(row.split()[1].split(':')[1][:-1])\n",
    "        guard_total_sleep_time[guard_num] += (stop_time - start_time)\n",
    "        if (start_time != 0):\n",
    "            guard_sleep_periods[guard_num].append([start_time,])\n",
    "        if (stop_time != 0):\n",
    "            guard_sleep_periods[guard_num][-1].append(stop_time)\n",
    "\n",
    "    sleepest_guard = max(guard_total_sleep_time.items(), key=itemgetter(1))[0]\n",
    "    periods = guard_sleep_periods[sleepest_guard]\n",
    "    minutes = Counter()\n",
    "    for period in periods:\n",
    "        minutes.update(Counter(range(period[0], period[1]+1)))\n",
    "\n",
    "    return sleepest_guard*minutes.most_common()[0][0]\n",
    "\n",
    "assert solve_day_4_part_1(data_test) == 240"
   ]
  },
  {
   "cell_type": "code",
   "execution_count": 128,
   "metadata": {},
   "outputs": [
    {
     "name": "stdout",
     "output_type": "stream",
     "text": [
      "3167 [[21, 58], [18, 28], [44, 50], [13, 47], [8, 51], [34, 59], [47, 56], [14, 49], [53, 54], [16, 22], [25, 35], [45, 52], [10, 51, 55], [15, 46], [51, 54], [23, 42], [49, 54], [28, 33], [36, 56], [6, 26], [44, 50, 9], [21, 47]]\n",
      "Solution Part One: 142515\n"
     ]
    }
   ],
   "source": [
    "solution = solve_day_4_part_1(data)\n",
    "assert solution == 142515\n",
    "print(f\"Solution Part One: {solution}\")"
   ]
  },
  {
   "cell_type": "markdown",
   "metadata": {},
   "source": [
    "Part II\n",
    "-----"
   ]
  },
  {
   "cell_type": "code",
   "execution_count": null,
   "metadata": {},
   "outputs": [],
   "source": []
  },
  {
   "cell_type": "code",
   "execution_count": null,
   "metadata": {},
   "outputs": [],
   "source": []
  },
  {
   "cell_type": "code",
   "execution_count": null,
   "metadata": {},
   "outputs": [],
   "source": []
  }
 ],
 "metadata": {
  "kernelspec": {
   "display_name": "Python 3",
   "language": "python",
   "name": "python3"
  },
  "language_info": {
   "codemirror_mode": {
    "name": "ipython",
    "version": 3
   },
   "file_extension": ".py",
   "mimetype": "text/x-python",
   "name": "python",
   "nbconvert_exporter": "python",
   "pygments_lexer": "ipython3",
   "version": "3.6.7"
  }
 },
 "nbformat": 4,
 "nbformat_minor": 2
}
