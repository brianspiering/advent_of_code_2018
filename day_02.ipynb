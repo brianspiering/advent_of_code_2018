{
 "cells": [
  {
   "cell_type": "markdown",
   "metadata": {},
   "source": [
    "Advent of Code - Day 2\n",
    "-----\n",
    "\n",
    "[Inventory Management System](https://adventofcode.com/2018/day/2)"
   ]
  },
  {
   "cell_type": "code",
   "execution_count": 70,
   "metadata": {},
   "outputs": [],
   "source": [
    "from utilities import load_input\n",
    "    \n",
    "data = load_input(day=2)"
   ]
  },
  {
   "cell_type": "markdown",
   "metadata": {},
   "source": [
    "Part I\n",
    "-----"
   ]
  },
  {
   "cell_type": "code",
   "execution_count": 71,
   "metadata": {},
   "outputs": [],
   "source": [
    "from collections import Counter\n",
    "from typing import List\n",
    "\n",
    "def solve_day_2_part_1(data:List[str]) -> int:\n",
    "\n",
    "    count_twos, count_threes = 0, 0\n",
    "    \n",
    "    for row in data:\n",
    "        counts_letter = Counter(row)\n",
    "        if 2 in counts_letter.values():\n",
    "            count_twos += 1\n",
    "        if 3 in counts_letter.values():\n",
    "            count_threes += 1\n",
    "\n",
    "    return count_twos * count_threes\n",
    "\n",
    "data_test = [\"abcdef\", \"bababc\", \"abbcde\", \"abcccd\", \"aabcdd\", \"abcdee\", \"ababab\"]\n",
    "assert solve_day_2_part_1(data_test) == 12"
   ]
  },
  {
   "cell_type": "code",
   "execution_count": 72,
   "metadata": {},
   "outputs": [
    {
     "name": "stdout",
     "output_type": "stream",
     "text": [
      "Solution Part One: 4940\n"
     ]
    }
   ],
   "source": [
    "solution = solve_day_2_part_1(data)\n",
    "assert solution == 4940\n",
    "print(f\"Solution Part One: {solution}\")"
   ]
  },
  {
   "cell_type": "markdown",
   "metadata": {},
   "source": [
    "Part II\n",
    "-----"
   ]
  },
  {
   "cell_type": "code",
   "execution_count": 73,
   "metadata": {},
   "outputs": [],
   "source": [
    "from difflib import SequenceMatcher\n",
    "\n",
    "def solve_day_2_part_2(data:List[str]) -> str:\n",
    "\n",
    "    result, max_ratio = None, 0\n",
    "    \n",
    "    for first in data:\n",
    "        for second in data:\n",
    "            ratio = SequenceMatcher(None, first, second).ratio()\n",
    "            if (ratio < 1) and (ratio > max_ratio):\n",
    "                result = ''.join(letter for letter in list(first) if letter in list(second))\n",
    "                max_ratio = ratio\n",
    "                break\n",
    "    return result\n",
    "\n",
    "data_test = ['abcde', 'fghij', 'klmno', 'pqrst', 'fguij', 'axcye', 'wvxyz']\n",
    "assert solve_day_2_part_2(data_test) == 'fgij'"
   ]
  },
  {
   "cell_type": "code",
   "execution_count": 74,
   "metadata": {},
   "outputs": [
    {
     "name": "stdout",
     "output_type": "stream",
     "text": [
      "Solution Part Two: wrziyfdmlumeqvaatbiosngkc\n"
     ]
    }
   ],
   "source": [
    "solution = solve_day_2_part_2(data)\n",
    "assert solution == 'wrziyfdmlumeqvaatbiosngkc'\n",
    "print(f\"Solution Part Two: {solution}\")"
   ]
  }
 ],
 "metadata": {
  "kernelspec": {
   "display_name": "Python 3",
   "language": "python",
   "name": "python3"
  },
  "language_info": {
   "codemirror_mode": {
    "name": "ipython",
    "version": 3
   },
   "file_extension": ".py",
   "mimetype": "text/x-python",
   "name": "python",
   "nbconvert_exporter": "python",
   "pygments_lexer": "ipython3",
   "version": "3.6.7"
  }
 },
 "nbformat": 4,
 "nbformat_minor": 2
}
